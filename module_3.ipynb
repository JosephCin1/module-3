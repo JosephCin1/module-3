{
 "cells": [
  {
   "cell_type": "code",
   "execution_count": 2,
   "metadata": {},
   "outputs": [
    {
     "name": "stdout",
     "output_type": "stream",
     "text": [
      "Path to dataset files: C:\\Users\\josep\\.cache\\kagglehub\\datasets\\saikalbatyrbekova\\korean-dramas-dataset-eda\\versions\\1\n"
     ]
    }
   ],
   "source": [
    "import kagglehub\n",
    "\n",
    "# Download latest version\n",
    "path = kagglehub.dataset_download(\"saikalbatyrbekova/korean-dramas-dataset-eda\")\n",
    "\n",
    "print(\"Path to dataset files:\", path)"
   ]
  },
  {
   "cell_type": "code",
   "execution_count": null,
   "metadata": {},
   "outputs": [
    {
     "name": "stdout",
     "output_type": "stream",
     "text": [
      "                        Title                                Genre  \\\n",
      "11              Lovely Runner      Music, Comedy, Romance, Fantasy   \n",
      "20                  Navillera  Friendship,  Life,  Drama,  Family    \n",
      "216               Good Doctor        Romance, Life, Drama, Medical   \n",
      "183      My Unfamiliar Family                          Life, Drama   \n",
      "274                    Memory            Law, Romance, Life, Drama   \n",
      "53            Dear My Friends   Life,  Drama,  Family,  Melodrama    \n",
      "207          One Spring Night      Romance, Life, Drama, Melodrama   \n",
      "98       My Father is Strange   Comedy,  Romance,  Drama,  Family    \n",
      "310  Payback: Money and Power   Thriller, Mystery, Business, Drama   \n",
      "222   The Sound of Your Heart                 Comedy, Life, Sitcom   \n",
      "\n",
      "                                                  Tags  \\\n",
      "11   Butterfly Effect, Second Chance, Time Travel, ...   \n",
      "20   Ballet, Dream, Life Lesson, Old-Young Generati...   \n",
      "216  Autism, Eccentric Male Lead, Ableism, Child Ab...   \n",
      "183  Family Crisis, Amnesia, Misunderstanding, Mult...   \n",
      "274  Alzheimer's Disease, Teamwork, Bromance, Mothe...   \n",
      "53   Best Friends, Life Lesson, Female Centered Plo...   \n",
      "207  Nice Male Lead, Family Pressure, Strong Female...   \n",
      "98   Family Secret, Sisterhood, Eccentric Female Le...   \n",
      "310  Uncle-Nephew Relationship, Finance Industry, F...   \n",
      "222  Mother-Son Relationship, Father-Son Relationsh...   \n",
      "\n",
      "                                                Actors  Rating  \n",
      "11   Lee Je Hoon, Tang Jun Sang, Hong Seung Hee, Ju...     9.0  \n",
      "20   Park In Hwan, Song Kang, Na Moon Hee, Hong Seu...     9.0  \n",
      "216  Joo Won, Moon Chae Won, Joo Sang Wook, Kim Min...     8.3  \n",
      "183  Han Ye Ri, Kim Ji Suk, Choo Ja Hyun, Jung Jin ...     8.4  \n",
      "274  Lee Sung Min, Kim Jee Soo, Park Jin Hee, Lee J...     8.3  \n",
      "53   Go Hyun Jung, Kim Hye Ja, Na Moon Hee, Go Doo ...     8.7  \n",
      "207  Jung Hae In, Han Ji Min, Kim Joon Han, Im Sung...     8.4  \n",
      "98   Kim Yeong Cheol, Kim Hae Sook, Ryu Soo Young, ...     8.6  \n",
      "310  Kang Yoo Seok, Moon Chae Won, Lee Sun Kyun, Pa...     7.7  \n",
      "222  Lee Kwang Soo, Kim Dae Myung, Jung So Min, Kim...     8.3  \n"
     ]
    }
   ],
   "source": [
    "import pandas as pd\n",
    "# Load the dataset\n",
    "file_path = \"kdrama_DATASET.csv\"\n",
    "df = pd.read_csv(file_path)\n",
    "\n",
    "# Display the first few rows and column names to understand structure\n",
    "df.head(), df.columns\n",
    "\n",
    "\n",
    "from sklearn.feature_extraction.text import TfidfVectorizer\n",
    "from sklearn.metrics.pairwise import cosine_similarity\n",
    "\n",
    "# Combine relevant text columns into one\n",
    "df['combined_features'] = df[['Genre', 'Tags', 'Actors']].fillna('').agg(' '.join, axis=1)\n",
    "\n",
    "# Vectorize the combined text features\n",
    "vectorizer = TfidfVectorizer(stop_words='english')\n",
    "tfidf_matrix = vectorizer.fit_transform(df['combined_features'])\n",
    "\n",
    "# Find the index of \"Move to Heaven\"\n",
    "query_index = df[df['Title'].str.lower() == 'move to heaven'].index[0]\n",
    "\n",
    "# Compute cosine similarity between \"Move to Heaven\" and all other dramas\n",
    "cosine_sim = cosine_similarity(tfidf_matrix[query_index], tfidf_matrix).flatten()\n",
    "\n",
    "# Get the indices of the top 10 most similar dramas (excluding itself)\n",
    "top_indices = cosine_sim.argsort()[::-1][1:11]\n",
    "\n",
    "# Retrieve and display the top 10 similar K-dramas\n",
    "top_similar_dramas = df.loc[top_indices, ['Title', 'Genre', 'Rating']]\n",
    "print (top_similar_dramas)"
   ]
  }
 ],
 "metadata": {
  "kernelspec": {
   "display_name": "Python 3",
   "language": "python",
   "name": "python3"
  },
  "language_info": {
   "codemirror_mode": {
    "name": "ipython",
    "version": 3
   },
   "file_extension": ".py",
   "mimetype": "text/x-python",
   "name": "python",
   "nbconvert_exporter": "python",
   "pygments_lexer": "ipython3",
   "version": "3.12.1"
  }
 },
 "nbformat": 4,
 "nbformat_minor": 2
}
